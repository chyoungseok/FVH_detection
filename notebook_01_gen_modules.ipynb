{
 "cells": [
  {
   "cell_type": "code",
   "execution_count": 1,
   "id": "8b6bddd2",
   "metadata": {},
   "outputs": [
    {
     "name": "stdout",
     "output_type": "stream",
     "text": [
      "[Device] cuda\n"
     ]
    }
   ],
   "source": [
    "import torch\n",
    "from modules.data_utils import load_all_slices_from_tree\n",
    "\n",
    "device = \"cuda\" if torch.cuda.is_available() else \"cpu\"\n",
    "print(f\"[Device] {device}\")"
   ]
  },
  {
   "cell_type": "code",
   "execution_count": 2,
   "id": "31a602b8",
   "metadata": {},
   "outputs": [
    {
     "name": "stdout",
     "output_type": "stream",
     "text": [
      "[Loaded] subjects=100, total_slices=2384, pos=22, neg=2362\n",
      "[Loaded] total=2384 | pos=22 | neg=2362\n"
     ]
    }
   ],
   "source": [
    "# 1) 데이터 로드\n",
    "data_root = './01_data/04_flair_preproc_slices/'\n",
    "X, y = load_all_slices_from_tree(data_root, select_N=100)\n",
    "print(f\"[Loaded] total={len(y)} | pos={(y==1).sum()} | neg={(y==0).sum()}\")"
   ]
  },
  {
   "cell_type": "code",
   "execution_count": 3,
   "id": "05079afb",
   "metadata": {},
   "outputs": [
    {
     "name": "stdout",
     "output_type": "stream",
     "text": [
      "[Balanced] total=44 | pos=22 | neg=22 (neg_ratio=1.0)\n"
     ]
    }
   ],
   "source": [
    "from modules.data_utils import undersample_negatives\n",
    "neg_ratio = 1.0\n",
    "X_bal, y_bal = undersample_negatives(X, y, neg_ratio=neg_ratio)\n",
    "print(f\"[Balanced] total={len(y_bal)} | pos={(y_bal==1).sum()} | neg={(y_bal==0).sum()} (neg_ratio={neg_ratio})\")"
   ]
  },
  {
   "cell_type": "code",
   "execution_count": 4,
   "id": "2c20e7fb",
   "metadata": {},
   "outputs": [
    {
     "name": "stdout",
     "output_type": "stream",
     "text": [
      "[Split] train=30 | val=2 | test=12 (test_ratio=0.3, val_ratio=0.1)\n"
     ]
    }
   ],
   "source": [
    "import numpy as np\n",
    "import os\n",
    "\n",
    "from modules.data_utils import train_test_split_stratified, train_val_split_stratified\n",
    "test_ratio = 0.3\n",
    "val_ratio = 0.1\n",
    "seed = 42\n",
    "out_dir = './02_results/test'\n",
    "\n",
    "# 3) train/test split then train/val split\n",
    "(Xtr_full, ytr_full), (Xte, yte) = train_test_split_stratified(X_bal, y_bal, test_ratio=test_ratio, seed=seed)\n",
    "(Xtr, ytr), (Xval, yval) = train_val_split_stratified(Xtr_full, ytr_full, val_ratio=val_ratio, seed=seed)\n",
    "print(f\"[Split] train={len(ytr)} | val={len(yval)} | test={len(yte)} (test_ratio={test_ratio}, val_ratio={val_ratio})\")\n",
    "np.save(os.path.join(out_dir, \"test_data.npy\"), Xte)"
   ]
  },
  {
   "cell_type": "code",
   "execution_count": 5,
   "id": "03f0e021",
   "metadata": {},
   "outputs": [],
   "source": [
    "from modules.data_utils import SliceDataset\n",
    "\n",
    "# 4) Datasets & Dataloaders\n",
    "ds_train = SliceDataset(Xtr, ytr)\n",
    "ds_val   = SliceDataset(Xval, yval)\n",
    "ds_test  = SliceDataset(Xte, yte)"
   ]
  },
  {
   "cell_type": "code",
   "execution_count": 35,
   "id": "7623ff47",
   "metadata": {},
   "outputs": [
    {
     "data": {
      "text/plain": [
       "array([[0.5726022 , 0.535956  , 0.56706005, 0.64443666, 0.697198  ,\n",
       "        0.672835  , 0.61755675, 0.6301762 , 0.69532704, 0.72650516],\n",
       "       [0.52699256, 0.50261253, 0.56458   , 0.6790737 , 0.74734336,\n",
       "        0.7353311 , 0.66765344, 0.64628613, 0.6743821 , 0.6746309 ],\n",
       "       [0.5460578 , 0.5185724 , 0.5651675 , 0.67050606, 0.75429344,\n",
       "        0.7670083 , 0.71783435, 0.6778881 , 0.6533762 , 0.6226344 ],\n",
       "       [0.5898529 , 0.5592696 , 0.578106  , 0.6526229 , 0.72719705,\n",
       "        0.7491937 , 0.7402203 , 0.70643437, 0.65090775, 0.6015253 ],\n",
       "       [0.65535825, 0.64024013, 0.63128173, 0.6315886 , 0.6628559 ,\n",
       "        0.694136  , 0.72232616, 0.7195078 , 0.67323464, 0.6238077 ],\n",
       "       [0.7085948 , 0.7182532 , 0.69073606, 0.62289006, 0.60147166,\n",
       "        0.62964725, 0.676449  , 0.7015415 , 0.68626595, 0.6585365 ],\n",
       "       [0.7061602 , 0.75300723, 0.7378784 , 0.6513767 , 0.5771926 ,\n",
       "        0.57433337, 0.62425506, 0.6679856 , 0.6837583 , 0.6870872 ],\n",
       "       [0.6509977 , 0.7443777 , 0.769566  , 0.70162445, 0.6056513 ,\n",
       "        0.5779391 , 0.6030329 , 0.6343491 , 0.66255987, 0.68765926],\n",
       "       [0.5429693 , 0.6736219 , 0.74227315, 0.72397053, 0.6621146 ,\n",
       "        0.6281779 , 0.61597496, 0.6130829 , 0.63507724, 0.669524  ],\n",
       "       [0.4161058 , 0.5467998 , 0.6620669 , 0.7152308 , 0.7093141 ,\n",
       "        0.6753639 , 0.64759654, 0.6260206 , 0.6355682 , 0.65756947]],\n",
       "      dtype=float32)"
      ]
     },
     "execution_count": 35,
     "metadata": {},
     "output_type": "execute_result"
    }
   ],
   "source": [
    "Xte[0][300:310, 300:310]"
   ]
  },
  {
   "cell_type": "code",
   "execution_count": 36,
   "id": "81d5e7de",
   "metadata": {},
   "outputs": [
    {
     "data": {
      "text/plain": [
       "array([[0.5726022 , 0.535956  , 0.56706005, 0.64443666, 0.697198  ,\n",
       "        0.672835  , 0.61755675, 0.6301762 , 0.69532704, 0.72650516],\n",
       "       [0.52699256, 0.50261253, 0.56458   , 0.6790737 , 0.74734336,\n",
       "        0.7353311 , 0.66765344, 0.64628613, 0.6743821 , 0.6746309 ],\n",
       "       [0.5460578 , 0.5185724 , 0.5651675 , 0.67050606, 0.75429344,\n",
       "        0.7670083 , 0.71783435, 0.6778881 , 0.6533762 , 0.6226344 ],\n",
       "       [0.5898529 , 0.5592696 , 0.578106  , 0.6526229 , 0.72719705,\n",
       "        0.7491937 , 0.7402203 , 0.70643437, 0.65090775, 0.6015253 ],\n",
       "       [0.65535825, 0.64024013, 0.63128173, 0.6315886 , 0.6628559 ,\n",
       "        0.694136  , 0.72232616, 0.7195078 , 0.67323464, 0.6238077 ],\n",
       "       [0.7085948 , 0.7182532 , 0.69073606, 0.62289006, 0.60147166,\n",
       "        0.62964725, 0.676449  , 0.7015415 , 0.68626595, 0.6585365 ],\n",
       "       [0.7061602 , 0.75300723, 0.7378784 , 0.6513767 , 0.5771926 ,\n",
       "        0.57433337, 0.62425506, 0.6679856 , 0.6837583 , 0.6870872 ],\n",
       "       [0.6509977 , 0.7443777 , 0.769566  , 0.70162445, 0.6056513 ,\n",
       "        0.5779391 , 0.6030329 , 0.6343491 , 0.66255987, 0.68765926],\n",
       "       [0.5429693 , 0.6736219 , 0.74227315, 0.72397053, 0.6621146 ,\n",
       "        0.6281779 , 0.61597496, 0.6130829 , 0.63507724, 0.669524  ],\n",
       "       [0.4161058 , 0.5467998 , 0.6620669 , 0.7152308 , 0.7093141 ,\n",
       "        0.6753639 , 0.64759654, 0.6260206 , 0.6355682 , 0.65756947]],\n",
       "      dtype=float32)"
      ]
     },
     "execution_count": 36,
     "metadata": {},
     "output_type": "execute_result"
    }
   ],
   "source": [
    "ds_test.images[0][300:310, 300:310]"
   ]
  },
  {
   "cell_type": "code",
   "execution_count": 6,
   "id": "f651c57d",
   "metadata": {},
   "outputs": [],
   "source": [
    "from torch.utils.data import DataLoader\n",
    "\n",
    "batch_size = 16\n",
    "num_workers = 4\n",
    "\n",
    "dl_train = DataLoader(ds_train, batch_size=batch_size, shuffle=True,\n",
    "                        num_workers=num_workers, pin_memory=False,\n",
    "                        persistent_workers=False if num_workers == 0 else True)\n",
    "dl_val   = DataLoader(ds_val, batch_size=batch_size, shuffle=False,\n",
    "                        num_workers=num_workers, pin_memory=False,\n",
    "                        persistent_workers=False if num_workers == 0 else True)\n",
    "dl_test  = DataLoader(ds_test,  batch_size=batch_size, shuffle=False,\n",
    "                        num_workers=num_workers, pin_memory=False,\n",
    "                        persistent_workers=False if num_workers == 0 else True)"
   ]
  },
  {
   "cell_type": "code",
   "execution_count": 41,
   "id": "3d1c1dd1",
   "metadata": {},
   "outputs": [
    {
     "data": {
      "text/plain": [
       "(12,)"
      ]
     },
     "execution_count": 41,
     "metadata": {},
     "output_type": "execute_result"
    }
   ],
   "source": [
    "dl_test.dataset.labels.shape"
   ]
  },
  {
   "cell_type": "code",
   "execution_count": 23,
   "id": "3d2e7b94",
   "metadata": {},
   "outputs": [
    {
     "data": {
      "text/plain": [
       "30"
      ]
     },
     "execution_count": 23,
     "metadata": {},
     "output_type": "execute_result"
    }
   ],
   "source": [
    "len(dl_train.dataset)"
   ]
  },
  {
   "cell_type": "code",
   "execution_count": 7,
   "id": "35a44d06",
   "metadata": {},
   "outputs": [
    {
     "name": "stdout",
     "output_type": "stream",
     "text": [
      "torch.Size([16, 1, 672, 672]) torch.Size([16])\n",
      "torch.Size([14, 1, 672, 672]) torch.Size([14])\n"
     ]
    }
   ],
   "source": [
    "for img, lab in dl_train:\n",
    "    print(img.shape, lab.shape)"
   ]
  },
  {
   "cell_type": "code",
   "execution_count": null,
   "id": "4e46f5a1",
   "metadata": {},
   "outputs": [],
   "source": [
    "from modules.model_utils import *\n",
    "\n",
    "weight_pos = 1.0\n",
    "lr = 0.003\n",
    "\n",
    "# 5) 모델/손실/최적화\n",
    "model = build_resnet18_1ch(num_classes=1).to(device)\n",
    "pos_weight = torch.tensor([weight_pos], device=device)\n",
    "criterion = nn.BCEWithLogitsLoss(pos_weight=pos_weight)\n",
    "optimizer = torch.optim.Adam(model.parameters(), lr=lr, weight_decay=1e-4)"
   ]
  },
  {
   "cell_type": "code",
   "execution_count": 24,
   "id": "c5a130e2",
   "metadata": {},
   "outputs": [
    {
     "name": "stdout",
     "output_type": "stream",
     "text": [
      "ResNet(\n",
      "  (conv1): Conv2d(1, 64, kernel_size=(7, 7), stride=(2, 2), padding=(3, 3), bias=False)\n",
      "  (bn1): BatchNorm2d(64, eps=1e-05, momentum=0.1, affine=True, track_running_stats=True)\n",
      "  (relu): ReLU(inplace=True)\n",
      "  (maxpool): MaxPool2d(kernel_size=3, stride=2, padding=1, dilation=1, ceil_mode=False)\n",
      "  (layer1): Sequential(\n",
      "    (0): BasicBlock(\n",
      "      (conv1): Conv2d(64, 64, kernel_size=(3, 3), stride=(1, 1), padding=(1, 1), bias=False)\n",
      "      (bn1): BatchNorm2d(64, eps=1e-05, momentum=0.1, affine=True, track_running_stats=True)\n",
      "      (relu): ReLU(inplace=True)\n",
      "      (conv2): Conv2d(64, 64, kernel_size=(3, 3), stride=(1, 1), padding=(1, 1), bias=False)\n",
      "      (bn2): BatchNorm2d(64, eps=1e-05, momentum=0.1, affine=True, track_running_stats=True)\n",
      "    )\n",
      "    (1): BasicBlock(\n",
      "      (conv1): Conv2d(64, 64, kernel_size=(3, 3), stride=(1, 1), padding=(1, 1), bias=False)\n",
      "      (bn1): BatchNorm2d(64, eps=1e-05, momentum=0.1, affine=True, track_running_stats=True)\n",
      "      (relu): ReLU(inplace=True)\n",
      "      (conv2): Conv2d(64, 64, kernel_size=(3, 3), stride=(1, 1), padding=(1, 1), bias=False)\n",
      "      (bn2): BatchNorm2d(64, eps=1e-05, momentum=0.1, affine=True, track_running_stats=True)\n",
      "    )\n",
      "  )\n",
      "  (layer2): Sequential(\n",
      "    (0): BasicBlock(\n",
      "      (conv1): Conv2d(64, 128, kernel_size=(3, 3), stride=(2, 2), padding=(1, 1), bias=False)\n",
      "      (bn1): BatchNorm2d(128, eps=1e-05, momentum=0.1, affine=True, track_running_stats=True)\n",
      "      (relu): ReLU(inplace=True)\n",
      "      (conv2): Conv2d(128, 128, kernel_size=(3, 3), stride=(1, 1), padding=(1, 1), bias=False)\n",
      "      (bn2): BatchNorm2d(128, eps=1e-05, momentum=0.1, affine=True, track_running_stats=True)\n",
      "      (downsample): Sequential(\n",
      "        (0): Conv2d(64, 128, kernel_size=(1, 1), stride=(2, 2), bias=False)\n",
      "        (1): BatchNorm2d(128, eps=1e-05, momentum=0.1, affine=True, track_running_stats=True)\n",
      "      )\n",
      "    )\n",
      "    (1): BasicBlock(\n",
      "      (conv1): Conv2d(128, 128, kernel_size=(3, 3), stride=(1, 1), padding=(1, 1), bias=False)\n",
      "      (bn1): BatchNorm2d(128, eps=1e-05, momentum=0.1, affine=True, track_running_stats=True)\n",
      "      (relu): ReLU(inplace=True)\n",
      "      (conv2): Conv2d(128, 128, kernel_size=(3, 3), stride=(1, 1), padding=(1, 1), bias=False)\n",
      "      (bn2): BatchNorm2d(128, eps=1e-05, momentum=0.1, affine=True, track_running_stats=True)\n",
      "    )\n",
      "  )\n",
      "  (layer3): Sequential(\n",
      "    (0): BasicBlock(\n",
      "      (conv1): Conv2d(128, 256, kernel_size=(3, 3), stride=(2, 2), padding=(1, 1), bias=False)\n",
      "      (bn1): BatchNorm2d(256, eps=1e-05, momentum=0.1, affine=True, track_running_stats=True)\n",
      "      (relu): ReLU(inplace=True)\n",
      "      (conv2): Conv2d(256, 256, kernel_size=(3, 3), stride=(1, 1), padding=(1, 1), bias=False)\n",
      "      (bn2): BatchNorm2d(256, eps=1e-05, momentum=0.1, affine=True, track_running_stats=True)\n",
      "      (downsample): Sequential(\n",
      "        (0): Conv2d(128, 256, kernel_size=(1, 1), stride=(2, 2), bias=False)\n",
      "        (1): BatchNorm2d(256, eps=1e-05, momentum=0.1, affine=True, track_running_stats=True)\n",
      "      )\n",
      "    )\n",
      "    (1): BasicBlock(\n",
      "      (conv1): Conv2d(256, 256, kernel_size=(3, 3), stride=(1, 1), padding=(1, 1), bias=False)\n",
      "      (bn1): BatchNorm2d(256, eps=1e-05, momentum=0.1, affine=True, track_running_stats=True)\n",
      "      (relu): ReLU(inplace=True)\n",
      "      (conv2): Conv2d(256, 256, kernel_size=(3, 3), stride=(1, 1), padding=(1, 1), bias=False)\n",
      "      (bn2): BatchNorm2d(256, eps=1e-05, momentum=0.1, affine=True, track_running_stats=True)\n",
      "    )\n",
      "  )\n",
      "  (layer4): Sequential(\n",
      "    (0): BasicBlock(\n",
      "      (conv1): Conv2d(256, 512, kernel_size=(3, 3), stride=(2, 2), padding=(1, 1), bias=False)\n",
      "      (bn1): BatchNorm2d(512, eps=1e-05, momentum=0.1, affine=True, track_running_stats=True)\n",
      "      (relu): ReLU(inplace=True)\n",
      "      (conv2): Conv2d(512, 512, kernel_size=(3, 3), stride=(1, 1), padding=(1, 1), bias=False)\n",
      "      (bn2): BatchNorm2d(512, eps=1e-05, momentum=0.1, affine=True, track_running_stats=True)\n",
      "      (downsample): Sequential(\n",
      "        (0): Conv2d(256, 512, kernel_size=(1, 1), stride=(2, 2), bias=False)\n",
      "        (1): BatchNorm2d(512, eps=1e-05, momentum=0.1, affine=True, track_running_stats=True)\n",
      "      )\n",
      "    )\n",
      "    (1): BasicBlock(\n",
      "      (conv1): Conv2d(512, 512, kernel_size=(3, 3), stride=(1, 1), padding=(1, 1), bias=False)\n",
      "      (bn1): BatchNorm2d(512, eps=1e-05, momentum=0.1, affine=True, track_running_stats=True)\n",
      "      (relu): ReLU(inplace=True)\n",
      "      (conv2): Conv2d(512, 512, kernel_size=(3, 3), stride=(1, 1), padding=(1, 1), bias=False)\n",
      "      (bn2): BatchNorm2d(512, eps=1e-05, momentum=0.1, affine=True, track_running_stats=True)\n",
      "    )\n",
      "  )\n",
      "  (avgpool): AdaptiveAvgPool2d(output_size=(1, 1))\n",
      "  (fc): Linear(in_features=512, out_features=1, bias=True)\n",
      ")\n"
     ]
    }
   ],
   "source": [
    "print(model)"
   ]
  },
  {
   "cell_type": "code",
   "execution_count": 20,
   "id": "f233ba52",
   "metadata": {},
   "outputs": [
    {
     "data": {
      "text/plain": [
       "tensor([1.], device='cuda:0')"
      ]
     },
     "execution_count": 20,
     "metadata": {},
     "output_type": "execute_result"
    }
   ],
   "source": [
    "pos_weight"
   ]
  },
  {
   "cell_type": "code",
   "execution_count": 21,
   "id": "e3a1fc21",
   "metadata": {},
   "outputs": [
    {
     "data": {
      "text/plain": [
       "BCEWithLogitsLoss()"
      ]
     },
     "execution_count": 21,
     "metadata": {},
     "output_type": "execute_result"
    }
   ],
   "source": [
    "criterion"
   ]
  }
 ],
 "metadata": {
  "kernelspec": {
   "display_name": "fhv_deep",
   "language": "python",
   "name": "python3"
  },
  "language_info": {
   "codemirror_mode": {
    "name": "ipython",
    "version": 3
   },
   "file_extension": ".py",
   "mimetype": "text/x-python",
   "name": "python",
   "nbconvert_exporter": "python",
   "pygments_lexer": "ipython3",
   "version": "3.10.18"
  }
 },
 "nbformat": 4,
 "nbformat_minor": 5
}
