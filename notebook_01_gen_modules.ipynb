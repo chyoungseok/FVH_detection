{
 "cells": [
  {
   "cell_type": "code",
   "execution_count": 1,
   "id": "8b6bddd2",
   "metadata": {},
   "outputs": [
    {
     "name": "stdout",
     "output_type": "stream",
     "text": [
      "[Device] cuda\n"
     ]
    }
   ],
   "source": [
    "import torch\n",
    "from modules.data_utils import load_all_slices_from_tree\n",
    "\n",
    "device = \"cuda\" if torch.cuda.is_available() else \"cpu\"\n",
    "print(f\"[Device] {device}\")"
   ]
  },
  {
   "cell_type": "code",
   "execution_count": 2,
   "id": "31a602b8",
   "metadata": {},
   "outputs": [
    {
     "name": "stdout",
     "output_type": "stream",
     "text": [
      "[Loaded] subjects=100, total_slices=2384, pos=22, neg=2362\n",
      "[Loaded] total=2384 | pos=22 | neg=2362\n"
     ]
    }
   ],
   "source": [
    "# 1) 데이터 로드\n",
    "data_root = './01_data/04_flair_preproc_slices/'\n",
    "X, y = load_all_slices_from_tree(data_root, select_N=100)\n",
    "print(f\"[Loaded] total={len(y)} | pos={(y==1).sum()} | neg={(y==0).sum()}\")"
   ]
  },
  {
   "cell_type": "code",
   "execution_count": 3,
   "id": "05079afb",
   "metadata": {},
   "outputs": [
    {
     "name": "stdout",
     "output_type": "stream",
     "text": [
      "[Balanced] total=44 | pos=22 | neg=22 (neg_ratio=1.0)\n"
     ]
    }
   ],
   "source": [
    "from modules.data_utils import undersample_negatives\n",
    "neg_ratio = 1.0\n",
    "X_bal, y_bal = undersample_negatives(X, y, neg_ratio=neg_ratio)\n",
    "print(f\"[Balanced] total={len(y_bal)} | pos={(y_bal==1).sum()} | neg={(y_bal==0).sum()} (neg_ratio={neg_ratio})\")"
   ]
  },
  {
   "cell_type": "code",
   "execution_count": 4,
   "id": "2c20e7fb",
   "metadata": {},
   "outputs": [
    {
     "name": "stdout",
     "output_type": "stream",
     "text": [
      "[Split] train=30 | val=2 | test=12 (test_ratio=0.3, val_ratio=0.1)\n"
     ]
    }
   ],
   "source": [
    "import numpy as np\n",
    "import os\n",
    "\n",
    "from modules.data_utils import train_test_split_stratified, train_val_split_stratified\n",
    "test_ratio = 0.3\n",
    "val_ratio = 0.1\n",
    "seed = 42\n",
    "out_dir = './02_results/test'\n",
    "\n",
    "# 3) train/test split then train/val split\n",
    "(Xtr_full, ytr_full), (Xte, yte) = train_test_split_stratified(X_bal, y_bal, test_ratio=test_ratio, seed=seed)\n",
    "(Xtr, ytr), (Xval, yval) = train_val_split_stratified(Xtr_full, ytr_full, val_ratio=val_ratio, seed=seed)\n",
    "print(f\"[Split] train={len(ytr)} | val={len(yval)} | test={len(yte)} (test_ratio={test_ratio}, val_ratio={val_ratio})\")\n",
    "np.save(os.path.join(out_dir, \"test_data.npy\"), Xte)"
   ]
  },
  {
   "cell_type": "code",
   "execution_count": 5,
   "id": "03f0e021",
   "metadata": {},
   "outputs": [],
   "source": [
    "from modules.data_utils import SliceDataset\n",
    "\n",
    "# 4) Datasets & Dataloaders\n",
    "ds_train = SliceDataset(Xtr, ytr)\n",
    "ds_val   = SliceDataset(Xval, yval)\n",
    "ds_test  = SliceDataset(Xte, yte)"
   ]
  },
  {
   "cell_type": "code",
   "execution_count": 6,
   "id": "f651c57d",
   "metadata": {},
   "outputs": [],
   "source": [
    "from torch.utils.data import DataLoader\n",
    "\n",
    "batch_size = 16\n",
    "num_workers = 4\n",
    "\n",
    "dl_train = DataLoader(ds_train, batch_size=batch_size, shuffle=True,\n",
    "                        num_workers=num_workers, pin_memory=False,\n",
    "                        persistent_workers=False if num_workers == 0 else True)\n",
    "dl_val   = DataLoader(ds_val, batch_size=batch_size, shuffle=False,\n",
    "                        num_workers=num_workers, pin_memory=False,\n",
    "                        persistent_workers=False if num_workers == 0 else True)\n",
    "dl_test  = DataLoader(ds_test,  batch_size=batch_size, shuffle=False,\n",
    "                        num_workers=num_workers, pin_memory=False,\n",
    "                        persistent_workers=False if num_workers == 0 else True)"
   ]
  },
  {
   "cell_type": "code",
   "execution_count": 23,
   "id": "3d2e7b94",
   "metadata": {},
   "outputs": [
    {
     "data": {
      "text/plain": [
       "30"
      ]
     },
     "execution_count": 23,
     "metadata": {},
     "output_type": "execute_result"
    }
   ],
   "source": [
    "len(dl_train.dataset)"
   ]
  },
  {
   "cell_type": "code",
   "execution_count": 7,
   "id": "35a44d06",
   "metadata": {},
   "outputs": [
    {
     "name": "stdout",
     "output_type": "stream",
     "text": [
      "torch.Size([16, 1, 672, 672]) torch.Size([16])\n",
      "torch.Size([14, 1, 672, 672]) torch.Size([14])\n"
     ]
    }
   ],
   "source": [
    "for img, lab in dl_train:\n",
    "    print(img.shape, lab.shape)"
   ]
  },
  {
   "cell_type": "code",
   "execution_count": null,
   "id": "4e46f5a1",
   "metadata": {},
   "outputs": [],
   "source": [
    "from modules.model_utils import *\n",
    "\n",
    "weight_pos = 1.0\n",
    "lr = 0.003\n",
    "\n",
    "# 5) 모델/손실/최적화\n",
    "model = build_resnet18_1ch(num_classes=1).to(device)\n",
    "pos_weight = torch.tensor([weight_pos], device=device)\n",
    "criterion = nn.BCEWithLogitsLoss(pos_weight=pos_weight)\n",
    "optimizer = torch.optim.Adam(model.parameters(), lr=lr, weight_decay=1e-4)"
   ]
  },
  {
   "cell_type": "code",
   "execution_count": 20,
   "id": "f233ba52",
   "metadata": {},
   "outputs": [
    {
     "data": {
      "text/plain": [
       "tensor([1.], device='cuda:0')"
      ]
     },
     "execution_count": 20,
     "metadata": {},
     "output_type": "execute_result"
    }
   ],
   "source": [
    "pos_weight"
   ]
  },
  {
   "cell_type": "code",
   "execution_count": 21,
   "id": "e3a1fc21",
   "metadata": {},
   "outputs": [
    {
     "data": {
      "text/plain": [
       "BCEWithLogitsLoss()"
      ]
     },
     "execution_count": 21,
     "metadata": {},
     "output_type": "execute_result"
    }
   ],
   "source": [
    "criterion"
   ]
  }
 ],
 "metadata": {
  "kernelspec": {
   "display_name": "fhv_deep",
   "language": "python",
   "name": "python3"
  },
  "language_info": {
   "codemirror_mode": {
    "name": "ipython",
    "version": 3
   },
   "file_extension": ".py",
   "mimetype": "text/x-python",
   "name": "python",
   "nbconvert_exporter": "python",
   "pygments_lexer": "ipython3",
   "version": "3.10.18"
  }
 },
 "nbformat": 4,
 "nbformat_minor": 5
}
