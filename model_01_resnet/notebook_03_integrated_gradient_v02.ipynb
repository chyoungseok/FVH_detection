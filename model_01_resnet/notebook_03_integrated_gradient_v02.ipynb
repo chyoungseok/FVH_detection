{
 "cells": [
  {
   "cell_type": "code",
   "execution_count": 1,
   "id": "3819e249",
   "metadata": {},
   "outputs": [],
   "source": [
    "import sys, os, torch, numpy as np\n",
    "from modules.ig_utils import ig_analysis\n",
    "from modules.model_utils import model_loss_optimizer_resnet\n",
    "\n",
    "device = 'cuda:3' if torch.cuda.is_available() else 'cpu'\n",
    "\n",
    "model, _, _ = model_loss_optimizer_resnet(\n",
    "    device=device, weight_pos=1.0, lr=1e-3, show_model_summary=False, resnet_depth=152\n",
    ")\n",
    "ckpt_path = \"/zdisk/users/ext_user_03/01_yschoi/project_01_FVH_detection/02_results/fhv_resnet152_with_cam/best_model.pt\"  # ← 너의 체크포인트\n",
    "ckpt = torch.load(\n",
    "    ckpt_path,\n",
    "    map_location=device if isinstance(device, str) else None,\n",
    "    weights_only=False \n",
    "    ) if os.path.exists(ckpt_path) else None\n",
    "\n",
    "if ckpt and 'model' in ckpt:\n",
    "    model.load_state_dict(ckpt['model'])\n",
    "model.eval();"
   ]
  },
  {
   "cell_type": "code",
   "execution_count": 2,
   "id": "d5bfcb66",
   "metadata": {},
   "outputs": [],
   "source": [
    "path_test_data = '/zdisk/users/ext_user_03/01_yschoi/project_01_FVH_detection/02_results/fhv_resnet152_with_cam/test_data.npy'\n",
    "test_data = np.load(path_test_data)\n",
    "\n",
    "path_test_label = '/zdisk/users/ext_user_03/01_yschoi/project_01_FVH_detection/02_results/fhv_resnet152_with_cam/test_y_true.npy'\n",
    "test_label = np.load(path_test_label)\n",
    "\n",
    "from modules.data_utils import SliceDataset\n",
    "from torch.utils.data import Dataset, DataLoader\n",
    "\n",
    "batch_size = 1\n",
    "num_workers = 0\n",
    "ds_test  = SliceDataset(test_data, test_label)\n",
    "dl_test  = DataLoader(ds_test,  batch_size=batch_size, shuffle=False,\n",
    "                      num_workers=num_workers, pin_memory=False,\n",
    "                      persistent_workers=False if num_workers == 0 else True)\n",
    "\n",
    "from modules.ig_utils import ig_on_batch\n",
    "\n",
    "model.eval()  # 반드시 eval\n",
    "\n",
    "idx = 0\n",
    "for images, labels in dl_test:           # images: (B,1,672,672)\n",
    "    # 배치 한 번에 IG 계산 + PNG 저장\n",
    "    res_list = ig_on_batch(\n",
    "        model=model,\n",
    "        batch_images=images,            # (B,1,H,W) 그대로 전달\n",
    "        device=device,\n",
    "        out_dir=\"./02_results/fhv_resnet152_with_cam/ig_test\", # PNG는 runs/ig_batch_demo/ig_batch/*.png 로 저장\n",
    "        fname_index=idx,\n",
    "        ig_steps=16,\n",
    "        ig_target=\"pos\",                # 1-logit이면 sign(+), multi-logit이면 pos_class_idx 사용\n",
    "        pos_class_idx=1,                # multi-logit에서 양성 클래스 인덱스가 1이라면\n",
    "        baseline_mode=\"zeros\",          # 'zeros'|'constant'|'blur'\n",
    "        use_noise_tunnel=False,         # 필요시 True로\n",
    "        viz_sign=\"positive\",            # 'positive'|'negative'|'both'|'absolute'\n",
    "        display_mode=\"percentile\",      # 'percentile'|'zscore'\n",
    "        save_raw_attr=False\n",
    "    )\n",
    "    idx += 1\n",
    "\n",
    "    # 선택: res_list[i]에는 각 샘플의 attr/overlay/score/delta 등이 들어있음\n",
    "    # 여기서는 이미지 파일 저장만 쓰는 경우 res_list를 굳이 보관할 필요 없음."
   ]
  }
 ],
 "metadata": {
  "kernelspec": {
   "display_name": "fhv_deep",
   "language": "python",
   "name": "python3"
  },
  "language_info": {
   "codemirror_mode": {
    "name": "ipython",
    "version": 3
   },
   "file_extension": ".py",
   "mimetype": "text/x-python",
   "name": "python",
   "nbconvert_exporter": "python",
   "pygments_lexer": "ipython3",
   "version": "3.10.18"
  }
 },
 "nbformat": 4,
 "nbformat_minor": 5
}
