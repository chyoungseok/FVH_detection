{
 "cells": [
  {
   "cell_type": "code",
   "execution_count": 72,
   "id": "d328015c",
   "metadata": {},
   "outputs": [
    {
     "name": "stdout",
     "output_type": "stream",
     "text": [
      "42435 9030 9048\n",
      "Train pos_weight: tensor(48.4580)\n",
      "torch.Size([8, 1, 672, 672]) torch.Size([8])\n",
      "['BP00518_P16950', 'HP00094_P01876', 'HP00055_P05753', 'HP00421_P07283', 'HP00722_P07404', 'HP00334_P04870', 'HP00141_P01647', 'HP00770_P05887']\n",
      "tensor([ 7, 20,  5, 16, 21, 20,  1, 19])\n",
      "tensor([0., 0., 0., 0., 0., 0., 0., 0.])\n"
     ]
    }
   ],
   "source": [
    "from PlainNet import FlairNPYSliceDataset, compute_pos_weight_from_dataset\n",
    "\n",
    "path_data = \"../01_data/04_flair_preproc_slices/\"\n",
    "train_ds = FlairNPYSliceDataset(root_dir=path_data, split=\"train\")\n",
    "val_ds   = FlairNPYSliceDataset(root_dir=path_data, split=\"val\")\n",
    "test_ds  = FlairNPYSliceDataset(root_dir=path_data, split=\"test\")\n",
    "\n",
    "print(len(train_ds), len(val_ds), len(test_ds))\n",
    "\n",
    "# pos_weight 계산\n",
    "print(\"Train pos_weight:\", compute_pos_weight_from_dataset(train_ds))\n",
    "\n",
    "# dataloader\n",
    "from torch.utils.data import DataLoader\n",
    "train_loader = DataLoader(train_ds, batch_size=8, shuffle=True, num_workers=0)\n",
    "batch = next(iter(train_loader))\n",
    "print(batch[\"image\"].shape, batch[\"label\"].shape)\n",
    "print(batch[\"subject_id\"])         # e.g. ['subject1', 'subject3', ...]\n",
    "print(batch[\"slice_idx\"])          # e.g. [12, 45, 3, 88, ...]\n",
    "print(batch[\"label\"])\n",
    "# torch.Size([8,1,672,672]) torch.Size([8])"
   ]
  },
  {
   "cell_type": "code",
   "execution_count": 138,
   "id": "8f38e389",
   "metadata": {},
   "outputs": [
    {
     "name": "stdout",
     "output_type": "stream",
     "text": [
      "torch.Size([8, 1, 672, 672]) torch.Size([8])\n",
      "['HP00209_P02691', 'HP00729_P04570', 'HP00130_P04420', 'BP00185_P13256', 'BP00376_P11730', 'BP00418_P12627', 'BP00139_P12079', 'HP00878_P07632']\n",
      "tensor([12, 13,  9,  7, 22, 22,  2,  4])\n",
      "tensor([0., 1., 0., 0., 0., 0., 0., 0.])\n",
      "['HP00729_P04570']\n",
      "tensor([13])\n"
     ]
    }
   ],
   "source": [
    "import numpy as np\n",
    "batch = next(iter(train_loader))\n",
    "print(batch[\"image\"].shape, batch[\"label\"].shape)\n",
    "print(batch[\"subject_id\"])         # e.g. ['subject1', 'subject3', ...]\n",
    "print(batch[\"slice_idx\"])          # e.g. [12, 45, 3, 88, ...]\n",
    "print(batch[\"label\"])\n",
    "\n",
    "idx = np.arange(8)[batch[\"label\"] == 1]\n",
    "print(np.array(batch[\"subject_id\"])[idx])\n",
    "print(batch['slice_idx'][idx])"
   ]
  },
  {
   "cell_type": "code",
   "execution_count": null,
   "id": "43936846",
   "metadata": {},
   "outputs": [],
   "source": []
  },
  {
   "cell_type": "code",
   "execution_count": null,
   "id": "226c9053",
   "metadata": {},
   "outputs": [],
   "source": []
  },
  {
   "cell_type": "code",
   "execution_count": null,
   "id": "fda253eb",
   "metadata": {},
   "outputs": [],
   "source": []
  }
 ],
 "metadata": {
  "kernelspec": {
   "display_name": "reportnet",
   "language": "python",
   "name": "python3"
  },
  "language_info": {
   "codemirror_mode": {
    "name": "ipython",
    "version": 3
   },
   "file_extension": ".py",
   "mimetype": "text/x-python",
   "name": "python",
   "nbconvert_exporter": "python",
   "pygments_lexer": "ipython3",
   "version": "3.10.18"
  }
 },
 "nbformat": 4,
 "nbformat_minor": 5
}
